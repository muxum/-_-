{
 "cells": [
  {
   "cell_type": "code",
   "execution_count": 23,
   "metadata": {},
   "outputs": [
    {
     "name": "stdout",
     "output_type": "stream",
     "text": [
      "199 [1.1017478] [4.0491786]\n",
      "199 [8.175808] [16.286043]\n",
      "199 [8.940094] [15.982529]\n",
      "199 [9.484891] [15.722849]\n",
      "199 [9.885551] [15.531697]\n",
      "199 [10.180257] [15.391095]\n",
      "199 [10.397032] [15.287673]\n",
      "199 [10.556481] [15.2116]\n",
      "199 [10.673768] [15.155643]\n",
      "199 [10.760037] [15.114485]\n"
     ]
    }
   ],
   "source": [
    "import numpy as np\n",
    "import tensorflow as tf\n",
    "\n",
    "x_data_1=np.random.rand(100)\n",
    "#x_data_2=np.random.rand(100)\n",
    "y_data= 11*x_data_1+15 #+23*x_data_2\n",
    "######start\n",
    "trainw=tf.Variable(tf.random_uniform([1],-1.0,1.0))\n",
    "biases=tf.Variable(tf.zeros([1]))\n",
    "\n",
    "y=trainw*x_data_1 + biases\n",
    "###loss function\n",
    "loss=tf.reduce_mean(tf.square(y-y_data))###Fang Cha## square<=>**2 ## reduce_mean<=>averange\n",
    "optimizer = tf.train.GradientDescentOptimizer(0.1) ###You Hua ###train's way##basic optimizer'name = Gradient Descent Optimizer；0.5/step\n",
    "train =optimizer.minimize(loss)\n",
    "\n",
    "init = tf.initialize_all_variables()##Chu Shi Hua \n",
    "######end\n",
    "sess =tf.Session()\n",
    "sess.run(init)\n",
    "###only when \"run\" ,we can use the code!\n",
    "for T in range(200):\n",
    "    sess.run(train)#train->loss&optimizer->y&y_data->x_data_1###link all code\n",
    "    if T%20==0:\n",
    "        print(step,sess.run(trainw),sess.run(biases))\n",
    "    "
   ]
  },
  {
   "cell_type": "code",
   "execution_count": null,
   "metadata": {},
   "outputs": [],
   "source": []
  },
  {
   "cell_type": "code",
   "execution_count": null,
   "metadata": {},
   "outputs": [],
   "source": []
  },
  {
   "cell_type": "code",
   "execution_count": null,
   "metadata": {},
   "outputs": [],
   "source": []
  },
  {
   "cell_type": "code",
   "execution_count": null,
   "metadata": {},
   "outputs": [],
   "source": []
  }
 ],
 "metadata": {
  "kernelspec": {
   "display_name": "Python 3",
   "language": "python",
   "name": "python3"
  },
  "language_info": {
   "codemirror_mode": {
    "name": "ipython",
    "version": 3
   },
   "file_extension": ".py",
   "mimetype": "text/x-python",
   "name": "python",
   "nbconvert_exporter": "python",
   "pygments_lexer": "ipython3",
   "version": "3.7.4"
  }
 },
 "nbformat": 4,
 "nbformat_minor": 2
}
