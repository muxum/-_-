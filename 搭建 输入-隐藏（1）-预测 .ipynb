{
 "cells": [
  {
   "cell_type": "code",
   "execution_count": null,
   "metadata": {},
   "outputs": [],
   "source": [
    "import tensorflow as tf\n",
    "import numpy as np\n",
    "import matplotlib.pyplot as plt\n",
    "####################build layer############\n",
    "def add_layer (inputs,in_size,out_size,activation_function=None):\n",
    "    W=tf.Variable(tf.random_normal([in_size,out_size]))\n",
    "    biases=tf.Variable(tf.zeros([1,out_size])+0.1)\n",
    "    Wx_plus_b=tf.matmul(inputs,W)+biases\n",
    "    if activation_function is None:\n",
    "        outputs=Wx_plus_b\n",
    "    else:\n",
    "        outputs=activation_function(Wx_plus_b)\n",
    "    return outputs\n",
    "##########################################\n",
    "### ### ###  data\n",
    "x_data = np.linspace(-5,5,10000)[:,np.newaxis]\n",
    "noise = np.random.normal(0,0.05,x_data.shape)#(average,fangcha,shape)\n",
    "y_data = np.square(x_data)-7 + noise #Noneline\n",
    "### independent\n",
    "xs= tf.placeholder(tf.float32,[None,1])\n",
    "ys= tf.placeholder(tf.float32,[None,1])\n",
    "#########   code start##############\n",
    "l1=add_layer(xs,1,10,activation_function=tf.nn.relu)\n",
    "l2=add_layer(l1,10,10,activation_function=tf.nn.tanh)\n",
    "\n",
    "prediction = add_layer(l2,10,1,activation_function=None)\n",
    "\n",
    "###loss\n",
    "loss = tf.reduce_mean(tf.reduce_sum(tf.square(prediction-ys),reduction_indices=[1]))###reduction_indices  is xD;it's 1D now\n",
    "###train's way\n",
    "train = tf.train.GradientDescentOptimizer(0.005).minimize(loss)\n",
    "\n",
    "########    code end###############\n",
    "init = tf.global_variables_initializer()\n",
    "sess=tf.Session()\n",
    "sess.run(init)\n",
    "\n",
    "fig=plt.figure()\n",
    "ax=fig.add_subplot(1,1,1)\n",
    "ax.scatter(x_data,y_data)\n",
    "plt.show()\n",
    "\n",
    "for i in range(10001):\n",
    "    sess.run(train,feed_dict={xs:x_data,ys:y_data})\n",
    "    if i%2000 == 0 :\n",
    "        print(i,sess.run(loss,feed_dict={xs:x_data,ys:y_data}))"
   ]
  },
  {
   "cell_type": "code",
   "execution_count": null,
   "metadata": {},
   "outputs": [],
   "source": []
  },
  {
   "cell_type": "code",
   "execution_count": null,
   "metadata": {},
   "outputs": [],
   "source": []
  },
  {
   "cell_type": "code",
   "execution_count": null,
   "metadata": {},
   "outputs": [],
   "source": []
  },
  {
   "cell_type": "code",
   "execution_count": null,
   "metadata": {},
   "outputs": [],
   "source": []
  },
  {
   "cell_type": "code",
   "execution_count": null,
   "metadata": {},
   "outputs": [],
   "source": []
  },
  {
   "cell_type": "code",
   "execution_count": null,
   "metadata": {},
   "outputs": [],
   "source": []
  },
  {
   "cell_type": "code",
   "execution_count": null,
   "metadata": {},
   "outputs": [],
   "source": []
  },
  {
   "cell_type": "code",
   "execution_count": null,
   "metadata": {},
   "outputs": [],
   "source": []
  },
  {
   "cell_type": "code",
   "execution_count": null,
   "metadata": {},
   "outputs": [],
   "source": []
  },
  {
   "cell_type": "code",
   "execution_count": null,
   "metadata": {},
   "outputs": [],
   "source": []
  }
 ],
 "metadata": {
  "kernelspec": {
   "display_name": "Python 3",
   "language": "python",
   "name": "python3"
  },
  "language_info": {
   "codemirror_mode": {
    "name": "ipython",
    "version": 3
   },
   "file_extension": ".py",
   "mimetype": "text/x-python",
   "name": "python",
   "nbconvert_exporter": "python",
   "pygments_lexer": "ipython3",
   "version": "3.7.4"
  }
 },
 "nbformat": 4,
 "nbformat_minor": 2
}
